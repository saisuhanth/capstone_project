{
 "cells": [
  {
   "cell_type": "markdown",
   "metadata": {},
   "source": [
    "# Introduction\n",
    "\n",
    "This project will analyse the feasibility of opening a Canadian Chinese Restaurant in the city of Toronto for our client. We will make a conclusion on the nominal area where the restaurant has to be opened based on the factors of sustainability of business, accessibility, type of cuisine and exclusivity in the area. This project deals with the step by step process of \n",
    " \n",
    " Analyzing the problem that we are trying to solve for our client\n",
    " \n",
    " What is the best approach to solve the problem\n",
    " \n",
    " What data do we need in order for us to acheive the solution\n",
    " \n",
    " The ways we can acquire the data that we need to solve the problem\n",
    " \n",
    " What insights have we infered from the visualization of the data acquired\n",
    " \n",
    " What statistical methods can be used to leverage the data that we have\n",
    " \n",
    " What are the predictions and conclusions that have been drawn on the methodology we have applied \n",
    " \n",
    " # Objective\n",
    " \n",
    "To suggest the best possible location for our client to take advantage of the various factors in a specific locality which is based on a multivariate analysis of the different factors that can influence a business such as \n",
    " \n",
    "  Population Density\n",
    "  \n",
    "  Demographics of the locality\n",
    "  \n",
    "  Cuisine which are popular in the neighborhood\n",
    "  \n",
    "  Exclusivity of the type of cuisine we are offering\n",
    "  \n",
    "  Accesibility to the location for the target customers"
   ]
  },
  {
   "cell_type": "code",
   "execution_count": null,
   "metadata": {},
   "outputs": [],
   "source": []
  }
 ],
 "metadata": {
  "kernelspec": {
   "display_name": "Python 3",
   "language": "python",
   "name": "python3"
  },
  "language_info": {
   "codemirror_mode": {
    "name": "ipython",
    "version": 3
   },
   "file_extension": ".py",
   "mimetype": "text/x-python",
   "name": "python",
   "nbconvert_exporter": "python",
   "pygments_lexer": "ipython3",
   "version": "3.7.6"
  }
 },
 "nbformat": 4,
 "nbformat_minor": 4
}
